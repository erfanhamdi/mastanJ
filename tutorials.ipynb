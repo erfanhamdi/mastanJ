{
 "cells": [
  {
   "cell_type": "code",
   "execution_count": 1,
   "metadata": {},
   "outputs": [],
   "source": [
    "import numpy as np\n",
    "from src.node import Node\n",
    "from src.element import Element\n",
    "from src.frame import Frame"
   ]
  },
  {
   "cell_type": "markdown",
   "metadata": {},
   "source": [
    "# How to implement your own example?\n",
    "1. First create a `Frame` object.\n",
    "```python\n",
    "F = Frame()\n",
    "```\n",
    "2. Then create `Node` objects and give the `np.array(x, y, z)` coordinates and determine if the node is constrained in any direction by giving it the prescribed value. \n",
    "* If it is a free node, then no need to give any value to the `u_x, u_y, u_z, theta_x, theta_y, theta_z` but you have to define the loading set `F_x, F_y, F_z, M_x, M_y, M_z`.\n",
    "* If it is a supported node, then you only have to give the prescribed value to the `u_x, u_y, u_z, theta_x, theta_y, theta_z`. \n",
    "* for example for a fixed node at the origin and a pinned node at (1, 0, 0) and a free node you can define the nodes as follows:\n",
    "```python\n",
    "# fixed node\n",
    "node1 = Node(np.array([0, 0, 0]), u_x=0, u_y=0, u_z=0, theta_x=0, theta_y=0, theta_z=0)\n",
    "# pinned node\n",
    "node2 = Node(np.array([1, 0, 0]), u_x=0, u_y=0, u_z=0)\n",
    "# free node\n",
    "node3 = Node(np.array([2, 0, 0]), F_x=0, F_y=0, F_z=0, M_x=0, M_y=0, M_z=0)\n",
    "```\n",
    "3. Then create `Element` objects and give the nodes and the material properties. (if you are solving a 2D frame, just set the `Iz` `Iy` and `J` to 1)\n",
    "```python\n",
    "# create an element\n",
    "element1 = Element(node_list=[node1, node2], E=200, A=10e3, Iy = 10e6, Iz = 10e6, J=10e6, nu = 0.3)\n",
    "```\n",
    "4. Add the elements to the frame.\n",
    "```python\n",
    "F.add_element(element1)\n",
    "```\n",
    "5. Assemble the global stiffness matrix \n",
    "```python\n",
    "F.assemble()\n",
    "```\n",
    "6. Solve for the unknown displacements and reactions\n",
    "```python\n",
    "delta, F_rxn = F.solve()\n",
    "```\n",
    "7. you can plot the initial and deformed shape of the frame using the `plot_deformed` method of the frame and scale the deformation - Remember you should have either a disp/rot or a force/moment for each direction on each node.:\n",
    "```python\n",
    "F.plot_deformed(F.dofs_array, scale = 100)\n",
    "```"
   ]
  },
  {
   "cell_type": "markdown",
   "metadata": {},
   "source": [
    "* Example 3.3"
   ]
  },
  {
   "cell_type": "markdown",
   "metadata": {},
   "source": [
    "<div style=\"text-align:center\">\n",
    "    <img src=\"figs/ex3-3.png\" width=\"200\"/>\n",
    "</div>"
   ]
  },
  {
   "cell_type": "code",
   "execution_count": 2,
   "metadata": {},
   "outputs": [
    {
     "name": "stdout",
     "output_type": "stream",
     "text": [
      "Delta:\n",
      " [ 0.00038189  0.00122783  0.          0.          0.          0.\n",
      " -0.00043791  0.          0.          0.          0.          0.\n",
      "  0.          0.          0.          0.          0.          0.\n",
      "  0.          0.          0.          0.          0.          0.00026584]\n",
      "Reaction force on supports:\n",
      " [ 3.83022222e+02  3.21393805e+02  0.00000000e+00  0.00000000e+00\n",
      "  0.00000000e+00 -1.53488298e-02  0.00000000e+00 -1.44260660e+02\n",
      "  0.00000000e+00  0.00000000e+00  0.00000000e+00  0.00000000e+00\n",
      " -1.62530109e+02 -1.77130929e+02  0.00000000e+00  0.00000000e+00\n",
      "  0.00000000e+00  0.00000000e+00 -2.20492112e+02 -2.21547775e-03\n",
      "  0.00000000e+00  0.00000000e+00  0.00000000e+00  0.00000000e+00]\n"
     ]
    }
   ],
   "source": [
    "F = Frame()\n",
    "node1 = Node(coords = np.array([0, 0, 0]), F_x = 500*np.cos(40*np.pi/180), F_y = 500*np.sin(40*np.pi/180), u_z = 0, theta_x = 0, theta_y = 0, theta_z = 0) # node a\n",
    "node2 = Node(coords = np.array([4, -4, 0]), F_x = 0, theta_z = 0, u_y = 0, u_z = 0, theta_x = 0, theta_y = 0) # node b\n",
    "node3 = Node(coords = np.array([-6.928, -4, 0]), u_x = 0, u_y = 0, u_z = 0, theta_x = 0, theta_y = 0, theta_z = 0) # node c\n",
    "node4 = Node(coords = np.array([-6.928, 0, 0]), u_x = 0, u_y = 0, u_z = 0, theta_x = 0, theta_y = 0, M_z = 0) \n",
    "elem1 = Element(node_list=[node1, node2], A = 20e3, E = 200, Iy = 0, Iz = 0, J = 1, nu = 0.3)\n",
    "elem2 = Element(node_list=[node2, node3], A = 18e3, E = 200, Iy = 0, Iz = 0, J = 1, nu = 0.3)\n",
    "elem3 = Element(node_list=[node1, node3], A = 15e3, E = 200, Iy = 0, Iz = 0, J = 1, nu = 0.3)\n",
    "elem4 = Element(node_list=[node1, node4], A = 20e3, E = 200, Iy = 1, Iz = 1, J = 1, nu = 0.3)\n",
    "F.add_elements([elem1, elem2, elem3, elem4])\n",
    "F.assemble()\n",
    "delta, F_rxn = F.solve()\n",
    "print(f\"Delta:\\n {delta}\")\n",
    "print(f\"Reaction force on supports:\\n {F_rxn}\")"
   ]
  },
  {
   "cell_type": "markdown",
   "metadata": {},
   "source": [
    "* Example 3.5"
   ]
  },
  {
   "cell_type": "markdown",
   "metadata": {},
   "source": [
    "<div style=\"text-align:center\">\n",
    "    <img src=\"figs/ex3-5.png\" width=\"200\"/>\n",
    "</div>"
   ]
  },
  {
   "cell_type": "code",
   "execution_count": 3,
   "metadata": {},
   "outputs": [
    {
     "name": "stdout",
     "output_type": "stream",
     "text": [
      "Delta:\n",
      " [ 0.          0.          0.          0.          0.          0.\n",
      " -0.00040825  0.          0.          0.          0.          0.\n",
      "  0.00981226 -0.00223071  0.          0.          0.          0.\n",
      "  0.01092762 -0.00780184  0.          0.          0.          0.        ]\n",
      "Reaction force on supports:\n",
      " [-282.84271247 -772.74066103    0.            0.            0.\n",
      "    0.            0.         1055.58337351    0.            0.\n",
      "    0.            0.            0.            0.            0.\n",
      "    0.            0.            0.          282.84271247 -282.84271247\n",
      "    0.            0.            0.            0.        ]\n"
     ]
    }
   ],
   "source": [
    "F2 = Frame()\n",
    "node1 = Node(coords = np.array([0, 0, 0]), u_x = 0, u_y = 0, u_z = 0, theta_x = 0, theta_y = 0, theta_z = 0) # node a\n",
    "node2 = Node(coords = np.array([5, 0, 0]), F_x = 0, u_y = 0, u_z = 0, theta_x = 0, theta_y = 0, theta_z = 0) # node b\n",
    "node3 = Node(coords = np.array([5, 5*np.tan(60*np.pi/180), 0]), u_z = 0, F_x = 0, F_y = 0,  theta_x = 0, theta_y = 0, theta_z = 0) # node c\n",
    "node4 = Node(coords = np.array([10, 5*np.tan(60*np.pi/180), 0]), u_z = 0, F_x = 400*np.cos(45*np.pi/180), F_y = -400*np.sin(45*np.pi/180), theta_x = 0, theta_y = 0, theta_z = 0)\n",
    "elem1 = Element(node_list=[node1, node2], A = 10e3, E = 200, Iy = 0, Iz = 0, J = 0)\n",
    "elem2 = Element(node_list=[node2, node3], A = 15e3, E = 200, Iy = 0, Iz = 0, J = 0)\n",
    "elem3 = Element(node_list=[node1, node3], A = 15e3, E = 200, Iy = 0, Iz = 0, J = 0)\n",
    "elem4 = Element(node_list=[node2, node4], A = 15e3, E = 200, Iy = 0, Iz = 0, J = 0)\n",
    "elem5 = Element(node_list=[node3, node4], A = 10e3, E = 200, Iy = 0, Iz = 0, J = 0)\n",
    "F2.add_elements([elem1, elem2, elem3, elem4, elem5])\n",
    "F2.assemble()\n",
    "delta, F_rxn = F2.solve()\n",
    "print(f\"Delta:\\n {delta}\")\n",
    "print(f\"Reaction force on supports:\\n {F_rxn}\")"
   ]
  },
  {
   "cell_type": "markdown",
   "metadata": {},
   "source": [
    "# In class examples"
   ]
  },
  {
   "cell_type": "markdown",
   "metadata": {},
   "source": [
    "## 1."
   ]
  },
  {
   "cell_type": "markdown",
   "metadata": {},
   "source": [
    "<div style=\"text-align:center\">\n",
    "    <img src=\"figs/ex1.png\" width=\"600\"/>\n",
    "</div>"
   ]
  },
  {
   "cell_type": "code",
   "execution_count": 4,
   "metadata": {},
   "outputs": [
    {
     "name": "stdout",
     "output_type": "stream",
     "text": [
      "Delta:\n",
      " [ 0.00000000e+00  0.00000000e+00  0.00000000e+00  0.00000000e+00\n",
      "  0.00000000e+00  0.00000000e+00  2.84049953e-03  1.59843349e+00\n",
      " -1.30609178e-03 -1.47204342e-01 -1.67293339e-02  1.82343349e-01\n",
      "  0.00000000e+00  0.00000000e+00  0.00000000e+00 -1.66162853e-01\n",
      "  8.79074190e-03  1.82343349e-01]\n",
      "Reaction force on supports:\n",
      " [-0.09468332 -0.03420124  0.00469541  0.1079876  -0.02359799 -0.76301861\n",
      "  0.1         0.05       -0.07        0.05       -0.1         0.25\n",
      " -0.00531668 -0.01579876  0.06530459  0.          0.          0.        ]\n"
     ]
    }
   ],
   "source": [
    "b = 0.5\n",
    "h = 1.0\n",
    "E = 1000\n",
    "nu = 0.3\n",
    "A = b*h\n",
    "Iy = h * b**3 / 12\n",
    "Iz = b * h**3 / 12\n",
    "I_polar = b*h/12 * (h**2 + b**2)\n",
    "J = 0.02861\n",
    "F3 = Frame()\n",
    "node0 = Node(coords = np.array([0, 0, 10]), u_x = 0, u_y = 0, u_z = 0, theta_x = 0, theta_y = 0, theta_z = 0)\n",
    "node1 = Node(coords = np.array([15, 0, 10]), F_x = 0.1, F_y = 0.05, F_z = -0.07, M_x = 0.05, M_y = -0.1, M_z = 0.25)\n",
    "node2 = Node(coords = np.array([15, 0, 0]), u_x = 0, u_y = 0, u_z = 0, M_x = 0, M_y = 0, M_z = 0)\n",
    "element0 = Element(node_list=[node0, node1], A = A, E = E, Iz = Iz, Iy= Iy, J = J, nu = nu, local_z = np.array([0, 0, 1]))\n",
    "element1 = Element(node_list=[node1, node2], A = A, E = E, Iy = Iy, Iz = Iz, J = J, nu = nu, local_z = np.array([1, 0, 0]))\n",
    "F3.add_elements([element0, element1])\n",
    "F3.assemble()\n",
    "delta, F_rxn = F3.solve()\n",
    "print(f\"Delta:\\n {delta}\")\n",
    "print(f\"Reaction force on supports:\\n {F_rxn}\")"
   ]
  },
  {
   "cell_type": "markdown",
   "metadata": {},
   "source": [
    "## 2."
   ]
  },
  {
   "cell_type": "markdown",
   "metadata": {},
   "source": [
    "<div style=\"text-align:center\">\n",
    "    <img src=\"figs/ex2.png\" width=\"600\"/>\n",
    "</div>"
   ]
  },
  {
   "cell_type": "code",
   "execution_count": 5,
   "metadata": {},
   "outputs": [
    {
     "name": "stdout",
     "output_type": "stream",
     "text": [
      "Delta:\n",
      " [ 0.16297422  0.06753731  0.          0.0038603  -0.00977672  0.00997704\n",
      "  0.05683823 -0.02127261 -0.04423469  0.00395566 -0.00929992  0.00997704\n",
      "  0.00104443  0.00109052  0.00034632  0.00313556 -0.0040055   0.00514273\n",
      "  0.          0.          0.          0.          0.          0.\n",
      "  0.          0.          0.         -0.00455166  0.00049019  0.00066426]\n",
      "Reaction force on supports:\n",
      " [ 0.          0.          0.0066722   0.          0.          0.\n",
      "  0.1        -0.05       -0.075       0.          0.          0.\n",
      "  0.          0.          0.          0.5        -0.1         0.3\n",
      " -0.02351271  0.13794825  0.02532498 -0.41161075  0.29811823 -0.36144034\n",
      " -0.07648729 -0.08794825  0.04300282  0.          0.          0.        ]\n"
     ]
    }
   ],
   "source": [
    "r = 1\n",
    "E = 500\n",
    "nu = 0.3\n",
    "A = np.pi * r**2\n",
    "Iy = np.pi * r**4 / 4\n",
    "Iz = np.pi * r**4 / 4\n",
    "I_polar = np.pi * r**4 / 2\n",
    "J = np.pi * r**4 / 2\n",
    "F4 = Frame()\n",
    "node0 = Node(coords = np.array([0, 0, 0]), F_x = 0, F_y = 0, u_z = 0, M_x = 0, M_y = 0, M_z = 0)\n",
    "node1 = Node(coords = np.array([-5, 1, 10]), F_x = 0.1, F_y = -0.05, F_z = -0.075, M_x = 0, M_y = 0, M_z = 0)\n",
    "node2 = Node(coords = np.array([-1, 5, 13]), F_x = 0, F_y = 0, F_z = 0, M_x = 0.5, M_y = -0.1, M_z = 0.3)\n",
    "node3 = Node(coords = np.array([-3, 7, 11]), u_x = 0, u_y = 0, u_z = 0, theta_x = 0, theta_y = 0, theta_z = 0)\n",
    "node4 = Node(coords = np.array([6, 9, 5]), u_x = 0, u_y = 0, u_z = 0, M_x = 0, M_y = 0, M_z = 0)\n",
    "element0 = Element(node_list=[node0, node1], A = A, E = E, Iz = Iz, Iy= Iy, J = J, nu = nu)\n",
    "element1 = Element(node_list=[node1, node2], A = A, E = E, Iy = Iy, Iz = Iz, J = J, nu = nu)\n",
    "element2 = Element(node_list=[node2, node3], A = A, E = E, Iy = Iy, Iz = Iz, J = J, nu = nu)\n",
    "element3 = Element(node_list=[node2, node4], A = A, E = E, Iy = Iy, Iz = Iz, J = J, nu = nu)\n",
    "F4.add_elements([element0, element1, element2, element3])\n",
    "F4.assemble()\n",
    "delta, F_rxn = F4.solve()\n",
    "print(f\"Delta:\\n {delta}\")\n",
    "print(f\"Reaction force on supports:\\n {F_rxn}\")"
   ]
  }
 ],
 "metadata": {
  "kernelspec": {
   "display_name": "mastanJ-env",
   "language": "python",
   "name": "python3"
  },
  "language_info": {
   "codemirror_mode": {
    "name": "ipython",
    "version": 3
   },
   "file_extension": ".py",
   "mimetype": "text/x-python",
   "name": "python",
   "nbconvert_exporter": "python",
   "pygments_lexer": "ipython3",
   "version": "3.9.7"
  }
 },
 "nbformat": 4,
 "nbformat_minor": 2
}
