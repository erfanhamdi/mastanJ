{
 "cells": [
  {
   "cell_type": "markdown",
   "metadata": {},
   "source": [
    "# FEM Tutorial using JAX Implementation\n",
    "\n",
    "This tutorial demonstrates how to use the JAX-based implementation of our finite element framework."
   ]
  },
  {
   "cell_type": "code",
   "execution_count": 1,
   "metadata": {},
   "outputs": [],
   "source": [
    "import jax.numpy as jnp\n",
    "from src.jax.frame import Frame\n",
    "from src.jax.element import Element\n",
    "import matplotlib.pyplot as plt"
   ]
  },
  {
   "cell_type": "markdown",
   "metadata": {},
   "source": [
    "## Creating a Simple Beam Element\n",
    "\n",
    "First, let's create a beam element class that inherits from our base Element class."
   ]
  },
  {
   "cell_type": "code",
   "execution_count": 2,
   "metadata": {},
   "outputs": [],
   "source": [
    "class BeamElement(Element):\n",
    "    def local_stiffness(self, coords):\n",
    "        # Get element length\n",
    "        dx = coords[1,0] - coords[0,0]\n",
    "        dy = coords[1,1] - coords[0,1]\n",
    "        L = jnp.sqrt(dx**2 + dy**2)\n",
    "        \n",
    "        # Beam element stiffness matrix in local coordinates\n",
    "        K = jnp.array([\n",
    "            [self.E*self.A/L, 0, 0, -self.E*self.A/L, 0, 0],\n",
    "            [0, 12*self.E*self.I/L**3, 6*self.E*self.I/L**2, 0, -12*self.E*self.I/L**3, 6*self.E*self.I/L**2],\n",
    "            [0, 6*self.E*self.I/L**2, 4*self.E*self.I/L, 0, -6*self.E*self.I/L**2, 2*self.E*self.I/L],\n",
    "            [-self.E*self.A/L, 0, 0, self.E*self.A/L, 0, 0],\n",
    "            [0, -12*self.E*self.I/L**3, -6*self.E*self.I/L**2, 0, 12*self.E*self.I/L**3, -6*self.E*self.I/L**2],\n",
    "            [0, 6*self.E*self.I/L**2, 2*self.E*self.I/L, 0, -6*self.E*self.I/L**2, 4*self.E*self.I/L]\n",
    "        ])\n",
    "        return K\n",
    "    \n",
    "    def transformation_matrix(self, coords):\n",
    "        # Calculate element orientation\n",
    "        dx = coords[1,0] - coords[0,0]\n",
    "        dy = coords[1,1] - coords[0,1]\n",
    "        L = jnp.sqrt(dx**2 + dy**2)\n",
    "        c = dx/L  # cosine\n",
    "        s = dy/L  # sine\n",
    "        \n",
    "        # Build transformation matrix\n",
    "        t = jnp.array([[c, s, 0], [-s, c, 0], [0, 0, 1]])\n",
    "        T = jnp.block([[t, jnp.zeros((3,3))],\n",
    "                       [jnp.zeros((3,3)), t]])\n",
    "        return T"
   ]
  },
  {
   "cell_type": "markdown",
   "metadata": {},
   "source": [
    "## Example: Cantilever Beam\n",
    "\n",
    "Let's analyze a simple cantilever beam using our JAX implementation."
   ]
  },
  {
   "cell_type": "code",
   "execution_count": 3,
   "metadata": {},
   "outputs": [
    {
     "ename": "TypeError",
     "evalue": "Using a non-tuple sequence for multidimensional indexing is not allowed; use `arr[array(seq)]` instead of `arr[seq]`. See https://github.com/jax-ml/jax/issues/4564 for more information.",
     "output_type": "error",
     "traceback": [
      "\u001b[0;31m---------------------------------------------------------------------------\u001b[0m",
      "\u001b[0;31mTypeError\u001b[0m                                 Traceback (most recent call last)",
      "Cell \u001b[0;32mIn[3], line 27\u001b[0m\n\u001b[1;32m     24\u001b[0m loads \u001b[38;5;241m=\u001b[39m jnp\u001b[38;5;241m.\u001b[39marray([\u001b[38;5;241m0.0\u001b[39m, \u001b[38;5;241m0.0\u001b[39m, \u001b[38;5;241m0.0\u001b[39m, \u001b[38;5;241m0.0\u001b[39m, \u001b[38;5;241m-\u001b[39mP, \u001b[38;5;241m0.0\u001b[39m])\n\u001b[1;32m     26\u001b[0m \u001b[38;5;66;03m# Solve system\u001b[39;00m\n\u001b[0;32m---> 27\u001b[0m displacements \u001b[38;5;241m=\u001b[39m \u001b[43mframe\u001b[49m\u001b[38;5;241;43m.\u001b[39;49m\u001b[43msolve\u001b[49m\u001b[43m(\u001b[49m\u001b[43mloads\u001b[49m\u001b[43m)\u001b[49m\n",
      "File \u001b[0;32m~/Documents/Courses/cursor/mastanJ/src/jax/frame.py:98\u001b[0m, in \u001b[0;36mFrame.solve\u001b[0;34m(self, loads)\u001b[0m\n\u001b[1;32m     96\u001b[0m \u001b[38;5;66;03m# Remove fixed DOFs\u001b[39;00m\n\u001b[1;32m     97\u001b[0m free_dofs \u001b[38;5;241m=\u001b[39m [i \u001b[38;5;28;01mfor\u001b[39;00m i \u001b[38;5;129;01min\u001b[39;00m \u001b[38;5;28mrange\u001b[39m(K\u001b[38;5;241m.\u001b[39mshape[\u001b[38;5;241m0\u001b[39m]) \u001b[38;5;28;01mif\u001b[39;00m i \u001b[38;5;129;01mnot\u001b[39;00m \u001b[38;5;129;01min\u001b[39;00m \u001b[38;5;28mself\u001b[39m\u001b[38;5;241m.\u001b[39mfixed_dofs]\n\u001b[0;32m---> 98\u001b[0m K_red \u001b[38;5;241m=\u001b[39m \u001b[43mK\u001b[49m\u001b[43m[\u001b[49m\u001b[43mfree_dofs\u001b[49m\u001b[43m]\u001b[49m[:, free_dofs]\n\u001b[1;32m     99\u001b[0m f_red \u001b[38;5;241m=\u001b[39m loads[free_dofs]\n\u001b[1;32m    101\u001b[0m \u001b[38;5;66;03m# Solve system\u001b[39;00m\n",
      "File \u001b[0;32m/opt/anaconda3/envs/course-env/lib/python3.13/site-packages/jax/_src/array.py:422\u001b[0m, in \u001b[0;36mArrayImpl.__getitem__\u001b[0;34m(self, idx)\u001b[0m\n\u001b[1;32m    417\u001b[0m       out \u001b[38;5;241m=\u001b[39m lax\u001b[38;5;241m.\u001b[39msqueeze(out, dimensions\u001b[38;5;241m=\u001b[39mdims)\n\u001b[1;32m    419\u001b[0m     \u001b[38;5;28;01mreturn\u001b[39;00m ArrayImpl(\n\u001b[1;32m    420\u001b[0m         out\u001b[38;5;241m.\u001b[39maval, sharding, [out], committed\u001b[38;5;241m=\u001b[39m\u001b[38;5;28;01mFalse\u001b[39;00m, _skip_checks\u001b[38;5;241m=\u001b[39m\u001b[38;5;28;01mTrue\u001b[39;00m)\n\u001b[0;32m--> 422\u001b[0m \u001b[38;5;28;01mreturn\u001b[39;00m \u001b[43mindexing\u001b[49m\u001b[38;5;241;43m.\u001b[39;49m\u001b[43mrewriting_take\u001b[49m\u001b[43m(\u001b[49m\u001b[38;5;28;43mself\u001b[39;49m\u001b[43m,\u001b[49m\u001b[43m \u001b[49m\u001b[43midx\u001b[49m\u001b[43m)\u001b[49m\n",
      "File \u001b[0;32m/opt/anaconda3/envs/course-env/lib/python3.13/site-packages/jax/_src/numpy/indexing.py:627\u001b[0m, in \u001b[0;36mrewriting_take\u001b[0;34m(arr, idx, indices_are_sorted, unique_indices, mode, fill_value, out_sharding)\u001b[0m\n\u001b[1;32m    621\u001b[0m     \u001b[38;5;28;01mif\u001b[39;00m (\u001b[38;5;28misinstance\u001b[39m(aval, core\u001b[38;5;241m.\u001b[39mDShapedArray) \u001b[38;5;129;01mand\u001b[39;00m aval\u001b[38;5;241m.\u001b[39mshape \u001b[38;5;241m==\u001b[39m () \u001b[38;5;129;01mand\u001b[39;00m\n\u001b[1;32m    622\u001b[0m         dtypes\u001b[38;5;241m.\u001b[39missubdtype(aval\u001b[38;5;241m.\u001b[39mdtype, np\u001b[38;5;241m.\u001b[39minteger) \u001b[38;5;129;01mand\u001b[39;00m\n\u001b[1;32m    623\u001b[0m         \u001b[38;5;129;01mnot\u001b[39;00m dtypes\u001b[38;5;241m.\u001b[39missubdtype(aval\u001b[38;5;241m.\u001b[39mdtype, dtypes\u001b[38;5;241m.\u001b[39mbool_) \u001b[38;5;129;01mand\u001b[39;00m\n\u001b[1;32m    624\u001b[0m         \u001b[38;5;28misinstance\u001b[39m(arr\u001b[38;5;241m.\u001b[39mshape[\u001b[38;5;241m0\u001b[39m], \u001b[38;5;28mint\u001b[39m)):\n\u001b[1;32m    625\u001b[0m       \u001b[38;5;28;01mreturn\u001b[39;00m lax\u001b[38;5;241m.\u001b[39mdynamic_index_in_dim(arr, idx, keepdims\u001b[38;5;241m=\u001b[39m\u001b[38;5;28;01mFalse\u001b[39;00m)\n\u001b[0;32m--> 627\u001b[0m treedef, static_idx, dynamic_idx \u001b[38;5;241m=\u001b[39m \u001b[43msplit_index_for_jit\u001b[49m\u001b[43m(\u001b[49m\u001b[43midx\u001b[49m\u001b[43m,\u001b[49m\u001b[43m \u001b[49m\u001b[43marr\u001b[49m\u001b[38;5;241;43m.\u001b[39;49m\u001b[43mshape\u001b[49m\u001b[43m)\u001b[49m\n\u001b[1;32m    628\u001b[0m \u001b[38;5;28;01mreturn\u001b[39;00m _gather(arr, treedef, static_idx, dynamic_idx, indices_are_sorted,\n\u001b[1;32m    629\u001b[0m                unique_indices, mode, fill_value, out_sharding)\n",
      "File \u001b[0;32m/opt/anaconda3/envs/course-env/lib/python3.13/site-packages/jax/_src/numpy/indexing.py:713\u001b[0m, in \u001b[0;36msplit_index_for_jit\u001b[0;34m(idx, shape)\u001b[0m\n\u001b[1;32m    708\u001b[0m \u001b[38;5;250m\u001b[39m\u001b[38;5;124;03m\"\"\"Splits indices into necessarily-static and dynamic parts.\u001b[39;00m\n\u001b[1;32m    709\u001b[0m \n\u001b[1;32m    710\u001b[0m \u001b[38;5;124;03mUsed to pass indices into `jit`-ted function.\u001b[39;00m\n\u001b[1;32m    711\u001b[0m \u001b[38;5;124;03m\"\"\"\u001b[39;00m\n\u001b[1;32m    712\u001b[0m \u001b[38;5;66;03m# Convert list indices to tuples in cases (deprecated by NumPy.)\u001b[39;00m\n\u001b[0;32m--> 713\u001b[0m idx \u001b[38;5;241m=\u001b[39m \u001b[43meliminate_deprecated_list_indexing\u001b[49m\u001b[43m(\u001b[49m\u001b[43midx\u001b[49m\u001b[43m)\u001b[49m\n\u001b[1;32m    714\u001b[0m \u001b[38;5;28;01mif\u001b[39;00m \u001b[38;5;28many\u001b[39m(\u001b[38;5;28misinstance\u001b[39m(i, \u001b[38;5;28mstr\u001b[39m) \u001b[38;5;28;01mfor\u001b[39;00m i \u001b[38;5;129;01min\u001b[39;00m idx):\n\u001b[1;32m    715\u001b[0m   \u001b[38;5;28;01mraise\u001b[39;00m \u001b[38;5;167;01mTypeError\u001b[39;00m(\u001b[38;5;124mf\u001b[39m\u001b[38;5;124m\"\u001b[39m\u001b[38;5;124mJAX does not support string indexing; got \u001b[39m\u001b[38;5;132;01m{\u001b[39;00midx\u001b[38;5;132;01m=}\u001b[39;00m\u001b[38;5;124m\"\u001b[39m)\n",
      "File \u001b[0;32m/opt/anaconda3/envs/course-env/lib/python3.13/site-packages/jax/_src/numpy/indexing.py:985\u001b[0m, in \u001b[0;36meliminate_deprecated_list_indexing\u001b[0;34m(idx)\u001b[0m\n\u001b[1;32m    981\u001b[0m   \u001b[38;5;28;01melse\u001b[39;00m:\n\u001b[1;32m    982\u001b[0m     msg \u001b[38;5;241m=\u001b[39m (\u001b[38;5;124m\"\u001b[39m\u001b[38;5;124mUsing a non-tuple sequence for multidimensional indexing is not allowed; \u001b[39m\u001b[38;5;124m\"\u001b[39m\n\u001b[1;32m    983\u001b[0m            \u001b[38;5;124m\"\u001b[39m\u001b[38;5;124muse `arr[array(seq)]` instead of `arr[seq]`. \u001b[39m\u001b[38;5;124m\"\u001b[39m\n\u001b[1;32m    984\u001b[0m            \u001b[38;5;124m\"\u001b[39m\u001b[38;5;124mSee https://github.com/jax-ml/jax/issues/4564 for more information.\u001b[39m\u001b[38;5;124m\"\u001b[39m)\n\u001b[0;32m--> 985\u001b[0m   \u001b[38;5;28;01mraise\u001b[39;00m \u001b[38;5;167;01mTypeError\u001b[39;00m(msg)\n\u001b[1;32m    986\u001b[0m \u001b[38;5;28;01melse\u001b[39;00m:\n\u001b[1;32m    987\u001b[0m   idx \u001b[38;5;241m=\u001b[39m (idx,)\n",
      "\u001b[0;31mTypeError\u001b[0m: Using a non-tuple sequence for multidimensional indexing is not allowed; use `arr[array(seq)]` instead of `arr[seq]`. See https://github.com/jax-ml/jax/issues/4564 for more information."
     ]
    }
   ],
   "source": [
    "# Create frame\n",
    "frame = Frame()\n",
    "\n",
    "# Add nodes\n",
    "frame.add_node(0, 0.0, 0.0)  # Fixed end\n",
    "frame.add_node(1, 2.0, 0.0)  # Free end\n",
    "\n",
    "# Add beam element\n",
    "beam = BeamElement(\n",
    "    nodes=(0, 1),\n",
    "    E=200e9,  # Steel Young's modulus (Pa)\n",
    "    A=0.01,   # Cross-sectional area (m²)\n",
    "    I=8.33e-6 # Moment of inertia (m⁴)\n",
    ")\n",
    "frame.add_element(beam)\n",
    "\n",
    "# Fix left end (all DOFs)\n",
    "frame.fix_dof(0)  # x-translation\n",
    "frame.fix_dof(1)  # y-translation\n",
    "frame.fix_dof(2)  # rotation\n",
    "\n",
    "# Apply load at free end\n",
    "P = 1000.0  # 1kN downward force\n",
    "loads = jnp.array([0.0, 0.0, 0.0, 0.0, -P, 0.0])\n",
    "\n",
    "# Solve system\n",
    "displacements = frame.solve(loads)"
   ]
  },
  {
   "cell_type": "markdown",
   "metadata": {},
   "source": [
    "## Results Analysis"
   ]
  },
  {
   "cell_type": "code",
   "execution_count": 4,
   "metadata": {},
   "outputs": [
    {
     "name": "stdout",
     "output_type": "stream",
     "text": [
      "Displacements at free end:\n"
     ]
    },
    {
     "ename": "NameError",
     "evalue": "name 'displacements' is not defined",
     "output_type": "error",
     "traceback": [
      "\u001b[0;31m---------------------------------------------------------------------------\u001b[0m",
      "\u001b[0;31mNameError\u001b[0m                                 Traceback (most recent call last)",
      "Cell \u001b[0;32mIn[4], line 3\u001b[0m\n\u001b[1;32m      1\u001b[0m \u001b[38;5;66;03m# Print displacements at free end\u001b[39;00m\n\u001b[1;32m      2\u001b[0m \u001b[38;5;28mprint\u001b[39m(\u001b[38;5;124m\"\u001b[39m\u001b[38;5;124mDisplacements at free end:\u001b[39m\u001b[38;5;124m\"\u001b[39m)\n\u001b[0;32m----> 3\u001b[0m \u001b[38;5;28mprint\u001b[39m(\u001b[38;5;124mf\u001b[39m\u001b[38;5;124m\"\u001b[39m\u001b[38;5;124mx-displacement: \u001b[39m\u001b[38;5;132;01m{\u001b[39;00m\u001b[43mdisplacements\u001b[49m[\u001b[38;5;241m3\u001b[39m]\u001b[38;5;132;01m:\u001b[39;00m\u001b[38;5;124m.6f\u001b[39m\u001b[38;5;132;01m}\u001b[39;00m\u001b[38;5;124m m\u001b[39m\u001b[38;5;124m\"\u001b[39m)\n\u001b[1;32m      4\u001b[0m \u001b[38;5;28mprint\u001b[39m(\u001b[38;5;124mf\u001b[39m\u001b[38;5;124m\"\u001b[39m\u001b[38;5;124my-displacement: \u001b[39m\u001b[38;5;132;01m{\u001b[39;00mdisplacements[\u001b[38;5;241m4\u001b[39m]\u001b[38;5;132;01m:\u001b[39;00m\u001b[38;5;124m.6f\u001b[39m\u001b[38;5;132;01m}\u001b[39;00m\u001b[38;5;124m m\u001b[39m\u001b[38;5;124m\"\u001b[39m)\n\u001b[1;32m      5\u001b[0m \u001b[38;5;28mprint\u001b[39m(\u001b[38;5;124mf\u001b[39m\u001b[38;5;124m\"\u001b[39m\u001b[38;5;124mrotation: \u001b[39m\u001b[38;5;132;01m{\u001b[39;00mdisplacements[\u001b[38;5;241m5\u001b[39m]\u001b[38;5;132;01m:\u001b[39;00m\u001b[38;5;124m.6f\u001b[39m\u001b[38;5;132;01m}\u001b[39;00m\u001b[38;5;124m rad\u001b[39m\u001b[38;5;124m\"\u001b[39m)\n",
      "\u001b[0;31mNameError\u001b[0m: name 'displacements' is not defined"
     ]
    }
   ],
   "source": [
    "# Print displacements at free end\n",
    "print(\"Displacements at free end:\")\n",
    "print(f\"x-displacement: {displacements[3]:.6f} m\")\n",
    "print(f\"y-displacement: {displacements[4]:.6f} m\")\n",
    "print(f\"rotation: {displacements[5]:.6f} rad\")\n",
    "\n",
    "# Theoretical solution for tip deflection of cantilever beam\n",
    "L = 2.0  # beam length\n",
    "theoretical_deflection = P * L**3 / (3 * beam.E * beam.I)\n",
    "print(f\"\\nTheoretical tip deflection: {theoretical_deflection:.6f} m\")\n",
    "print(f\"Numerical tip deflection: {abs(displacements[4]):.6f} m\")"
   ]
  },
  {
   "cell_type": "markdown",
   "metadata": {},
   "source": [
    "## Visualizing the Beam"
   ]
  },
  {
   "cell_type": "code",
   "execution_count": null,
   "metadata": {},
   "outputs": [],
   "source": [
    "def plot_beam(frame, displacements, scale=1.0):\n",
    "    plt.figure(figsize=(10, 6))\n",
    "    \n",
    "    # Plot undeformed shape\n",
    "    x_coords = [frame.nodes[0][0], frame.nodes[1][0]]\n",
    "    y_coords = [frame.nodes[0][1], frame.nodes[1][1]]\n",
    "    plt.plot(x_coords, y_coords, 'k--', label='Undeformed')\n",
    "    \n",
    "    # Plot deformed shape\n",
    "    x_deformed = [\n",
    "        frame.nodes[0][0] + scale * displacements[0],\n",
    "        frame.nodes[1][0] + scale * displacements[3]\n",
    "    ]\n",
    "    y_deformed = [\n",
    "        frame.nodes[0][1] + scale * displacements[1],\n",
    "        frame.nodes[1][1] + scale * displacements[4]\n",
    "    ]\n",
    "    plt.plot(x_deformed, y_deformed, 'r-', label='Deformed')\n",
    "    \n",
    "    plt.grid(True)\n",
    "    plt.axis('equal')\n",
    "    plt.legend()\n",
    "    plt.title('Cantilever Beam Deformation')\n",
    "    plt.xlabel('X (m)')\n",
    "    plt.ylabel('Y (m)')\n",
    "    plt.show()\n",
    "\n",
    "# Plot the beam with exaggerated deformation\n",
    "plot_beam(frame, displacements, scale=100)"
   ]
  },
  {
   "cell_type": "markdown",
   "metadata": {},
   "source": [
    "## Performance Comparison\n",
    "\n",
    "Let's compare the performance of the JAX implementation with the original numpy implementation."
   ]
  },
  {
   "cell_type": "code",
   "execution_count": null,
   "metadata": {},
   "outputs": [],
   "source": [
    "import time\n",
    "from jax import jit\n",
    "\n",
    "# JIT compile the solve function\n",
    "@jit\n",
    "def solve_jitted(frame, loads):\n",
    "    return frame.solve(loads)\n",
    "\n",
    "# Timing comparison\n",
    "n_runs = 1000\n",
    "\n",
    "# Time regular solution\n",
    "start = time.time()\n",
    "for _ in range(n_runs):\n",
    "    _ = frame.solve(loads)\n",
    "regular_time = time.time() - start\n",
    "\n",
    "# Time JIT-compiled solution (including compilation)\n",
    "start = time.time()\n",
    "for _ in range(n_runs):\n",
    "    _ = solve_jitted(frame, loads)\n",
    "jit_time = time.time() - start\n",
    "\n",
    "print(f\"Regular execution time (average over {n_runs} runs): {regular_time/n_runs*1000:.3f} ms\")\n",
    "print(f\"JIT execution time (average over {n_runs} runs): {jit_time/n_runs*1000:.3f} ms\")"
   ]
  }
 ],
 "metadata": {
  "kernelspec": {
   "display_name": "course-env",
   "language": "python",
   "name": "python3"
  },
  "language_info": {
   "codemirror_mode": {
    "name": "ipython",
    "version": 3
   },
   "file_extension": ".py",
   "mimetype": "text/x-python",
   "name": "python",
   "nbconvert_exporter": "python",
   "pygments_lexer": "ipython3",
   "version": "3.13.1"
  }
 },
 "nbformat": 4,
 "nbformat_minor": 4
}
